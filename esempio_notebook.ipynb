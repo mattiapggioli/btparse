{
 "cells": [
  {
   "cell_type": "code",
   "execution_count": 6,
   "metadata": {},
   "outputs": [],
   "source": [
    "\n",
    "import pandas as pd\n",
    "import numpy as np\n",
    "from btparse import BTParser"
   ]
  },
  {
   "cell_type": "code",
   "execution_count": 9,
   "metadata": {},
   "outputs": [],
   "source": [
    "scraper = BTParser()\n",
    "data = scraper.parse()"
   ]
  },
  {
   "cell_type": "code",
   "execution_count": 10,
   "metadata": {},
   "outputs": [],
   "source": [
    "df = pd.DataFrame(data)"
   ]
  },
  {
   "cell_type": "code",
   "execution_count": 11,
   "metadata": {},
   "outputs": [
    {
     "data": {
      "text/html": [
       "<div>\n",
       "<style scoped>\n",
       "    .dataframe tbody tr th:only-of-type {\n",
       "        vertical-align: middle;\n",
       "    }\n",
       "\n",
       "    .dataframe tbody tr th {\n",
       "        vertical-align: top;\n",
       "    }\n",
       "\n",
       "    .dataframe thead th {\n",
       "        text-align: right;\n",
       "    }\n",
       "</style>\n",
       "<table border=\"1\" class=\"dataframe\">\n",
       "  <thead>\n",
       "    <tr style=\"text-align: right;\">\n",
       "      <th></th>\n",
       "      <th>isin</th>\n",
       "      <th>isin_url</th>\n",
       "      <th>descrizione</th>\n",
       "      <th>cedola</th>\n",
       "      <th>ultimo</th>\n",
       "      <th>scadenza</th>\n",
       "    </tr>\n",
       "  </thead>\n",
       "  <tbody>\n",
       "    <tr>\n",
       "      <th>0</th>\n",
       "      <td>IT0001086567</td>\n",
       "      <td>https://www.borsaitaliana.it/borsa/obbligazion...</td>\n",
       "      <td>Btp-1nv26 7,25%</td>\n",
       "      <td>3.625</td>\n",
       "      <td>109.20</td>\n",
       "      <td>01/11/2026</td>\n",
       "    </tr>\n",
       "    <tr>\n",
       "      <th>1</th>\n",
       "      <td>IT0001174611</td>\n",
       "      <td>https://www.borsaitaliana.it/borsa/obbligazion...</td>\n",
       "      <td>Btp-1nv27 6,5%</td>\n",
       "      <td>3.250</td>\n",
       "      <td>110.73</td>\n",
       "      <td>01/11/2027</td>\n",
       "    </tr>\n",
       "    <tr>\n",
       "      <th>2</th>\n",
       "      <td>IT0001278511</td>\n",
       "      <td>https://www.borsaitaliana.it/borsa/obbligazion...</td>\n",
       "      <td>Btp-1nv29 5,25%</td>\n",
       "      <td>2.625</td>\n",
       "      <td>110.05</td>\n",
       "      <td>01/11/2029</td>\n",
       "    </tr>\n",
       "    <tr>\n",
       "      <th>3</th>\n",
       "      <td>IT0001444378</td>\n",
       "      <td>https://www.borsaitaliana.it/borsa/obbligazion...</td>\n",
       "      <td>Btp-1mg31 6%</td>\n",
       "      <td>3.000</td>\n",
       "      <td>116.12</td>\n",
       "      <td>01/05/2031</td>\n",
       "    </tr>\n",
       "    <tr>\n",
       "      <th>4</th>\n",
       "      <td>IT0003256820</td>\n",
       "      <td>https://www.borsaitaliana.it/borsa/obbligazion...</td>\n",
       "      <td>Btp-1fb33 5,75%</td>\n",
       "      <td>2.875</td>\n",
       "      <td>116.03</td>\n",
       "      <td>01/02/2033</td>\n",
       "    </tr>\n",
       "  </tbody>\n",
       "</table>\n",
       "</div>"
      ],
      "text/plain": [
       "           isin                                           isin_url  \\\n",
       "0  IT0001086567  https://www.borsaitaliana.it/borsa/obbligazion...   \n",
       "1  IT0001174611  https://www.borsaitaliana.it/borsa/obbligazion...   \n",
       "2  IT0001278511  https://www.borsaitaliana.it/borsa/obbligazion...   \n",
       "3  IT0001444378  https://www.borsaitaliana.it/borsa/obbligazion...   \n",
       "4  IT0003256820  https://www.borsaitaliana.it/borsa/obbligazion...   \n",
       "\n",
       "       descrizione  cedola  ultimo    scadenza  \n",
       "0  Btp-1nv26 7,25%   3.625  109.20  01/11/2026  \n",
       "1   Btp-1nv27 6,5%   3.250  110.73  01/11/2027  \n",
       "2  Btp-1nv29 5,25%   2.625  110.05  01/11/2029  \n",
       "3     Btp-1mg31 6%   3.000  116.12  01/05/2031  \n",
       "4  Btp-1fb33 5,75%   2.875  116.03  01/02/2033  "
      ]
     },
     "execution_count": 11,
     "metadata": {},
     "output_type": "execute_result"
    }
   ],
   "source": [
    "df.head()"
   ]
  },
  {
   "cell_type": "code",
   "execution_count": null,
   "metadata": {},
   "outputs": [],
   "source": []
  }
 ],
 "metadata": {
  "kernelspec": {
   "display_name": ".venv",
   "language": "python",
   "name": "python3"
  },
  "language_info": {
   "codemirror_mode": {
    "name": "ipython",
    "version": 3
   },
   "file_extension": ".py",
   "mimetype": "text/x-python",
   "name": "python",
   "nbconvert_exporter": "python",
   "pygments_lexer": "ipython3",
   "version": "3.10.12"
  }
 },
 "nbformat": 4,
 "nbformat_minor": 2
}
